{
 "cells": [
  {
   "cell_type": "code",
   "execution_count": 10,
   "metadata": {},
   "outputs": [
    {
     "name": "stdout",
     "output_type": "stream",
     "text": [
      "Hello to Data Structues\n"
     ]
    }
   ],
   "source": [
    "# Praxis Business School \n",
    "# Prithwis Mukerjee\n",
    "#\n",
    "# Data Structures in Python\n",
    "# there are some changes that are necessary for these codes to work in Python 3\n",
    "# range, filter, map return objects that are not lists … hence we need to cast them into lists\n",
    "# reduce has been replaced with functools.reduce\n",
    "# these changes are shown in red\n",
    "\n",
    "#http://stackoverflow.com/questions/12319025/filters-in-python\n",
    "#http://stackoverflow.com/questions/13638898/how-to-use-filter-map-and-reduce-in-python-3\n",
    "print(\"Hello to Data Structues\")\n"
   ]
  },
  {
   "cell_type": "code",
   "execution_count": 11,
   "metadata": {},
   "outputs": [
    {
     "name": "stdout",
     "output_type": "stream",
     "text": [
      "Filter Functions ................................\n",
      "[1, 2, 3, 4, 5, 6, 7, 8, 9]\n",
      "[2, 4, 6, 8]\n",
      "['Ram', 'RamPM', 'Shyam', 'PMShyam', 'Sita', 'SiPMMta']\n",
      "['RamPM', 'PMShyam', 'SiPMMta']\n"
     ]
    }
   ],
   "source": [
    "print(\"Filter Functions ................................\")\n",
    "\n",
    "pList1 = list(range(1,10))\n",
    "print(pList1)\n",
    "\n",
    "def pEven(x) : return x%2 == 0\n",
    "pList2 = list(filter(pEven,pList1))\n",
    "print(pList2)\n",
    "\n",
    "pList3 = [\"Ram\", \"RamPM\", \"Shyam\", \"PMShyam\", \"Sita\", \"SiPMMta\"]\n",
    "print(pList3)\n",
    "\n",
    "def hasPM(x) : return \"PM\" in x\n",
    "pList4 = list(filter(hasPM, pList3))\n",
    "print(pList4)\n"
   ]
  },
  {
   "cell_type": "code",
   "execution_count": 12,
   "metadata": {},
   "outputs": [
    {
     "name": "stdout",
     "output_type": "stream",
     "text": [
      "Lambda Functions ................................\n",
      "[2, 4, 6, 8]\n",
      "['RamPM', 'PMShyam', 'SiPMMta']\n"
     ]
    }
   ],
   "source": [
    "# Lambda functions\n",
    "print(\"Lambda Functions ................................\")\n",
    "\n",
    "pList2a = list(filter (lambda x : x%2 == 0, pList1))\n",
    "print(pList2a)\n",
    "\n",
    "pList4a = list(filter(lambda x: \"PM\" in x, pList3))\n",
    "print(pList4a)\n"
   ]
  },
  {
   "cell_type": "code",
   "execution_count": 3,
   "metadata": {},
   "outputs": [
    {
     "name": "stdout",
     "output_type": "stream",
     "text": [
      "Map Functions ................................\n",
      "[1, 4, 9, 16, 25, 36, 49, 64, 81]\n",
      "['YRam', 'YRamPM', 'YShyam', 'YPMShyam', 'YSita', 'YSiPMMta']\n",
      "[3, 5, 5, 7, 4, 7]\n",
      "[('Ram', 3), ('RamPM', 5), ('Shyam', 5), ('PMShyam', 7), ('Sita', 4), ('SiPMMta', 7)]\n"
     ]
    }
   ],
   "source": [
    "# Map\n",
    "pList1 = list(range(1,10))\n",
    "pList3 = [\"Ram\", \"RamPM\", \"Shyam\", \"PMShyam\", \"Sita\", \"SiPMMta\"]\n",
    "print(\"Map Functions ................................\")\n",
    "\n",
    "pList5 = list(map(lambda x : x*x, pList1))            # square each number in the list\n",
    "print(pList5)\n",
    "\n",
    "pList6 = list(map(lambda x : \"Y\"+x, pList3))          # appends the char Y to each string in the list\n",
    "print(pList6)\n",
    "\n",
    "pList7 = list(map(lambda x : len(x), pList3))         # returns the number of characters in each string of the list\n",
    "print(pList7)\n",
    "\n",
    "pList8 = list(map(lambda x : (x, len(x)),pList3))     # returns a list of tuples\n",
    "print(pList8)\n"
   ]
  },
  {
   "cell_type": "code",
   "execution_count": 14,
   "metadata": {},
   "outputs": [
    {
     "name": "stdout",
     "output_type": "stream",
     "text": [
      "Reduce Functions ................................\n",
      "45\n",
      "RamRamPMShyamPMShyamSitaSiPMMta\n",
      "('RamRamPMShyamPMShyamSitaSiPMMta', 31)\n"
     ]
    }
   ],
   "source": [
    "# Reduce\n",
    "print(\"Reduce Functions ................................\")\n",
    "\n",
    "import functools\n",
    "pVal1 = functools.reduce(lambda x,y: x+y, pList1)         #   adding the numbers in a list\n",
    "print(pVal1)\n",
    "\n",
    "pVal2 = functools.reduce(lambda x,y: x+y, pList3)         # concatenating string in a list\n",
    "print(pVal2)\n",
    "\n",
    "pVal3 = functools.reduce(lambda x,y: (x[0]+y[0], x[1]+y[1]), pList8)  #   adding and concatenating elements in a list\n",
    "print(pVal3)\n"
   ]
  },
  {
   "cell_type": "code",
   "execution_count": null,
   "metadata": {
    "collapsed": true
   },
   "outputs": [],
   "source": []
  }
 ],
 "metadata": {
  "kernelspec": {
   "display_name": "Python 3",
   "language": "python",
   "name": "python3"
  },
  "language_info": {
   "codemirror_mode": {
    "name": "ipython",
    "version": 3
   },
   "file_extension": ".py",
   "mimetype": "text/x-python",
   "name": "python",
   "nbconvert_exporter": "python",
   "pygments_lexer": "ipython3",
   "version": "3.6.3"
  }
 },
 "nbformat": 4,
 "nbformat_minor": 2
}
